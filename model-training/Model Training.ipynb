{
 "cells": [
  {
   "cell_type": "markdown",
   "id": "45437e31",
   "metadata": {},
   "source": [
    "# 1. Load Dataset\n",
    "\n"
   ]
  },
  {
   "cell_type": "code",
   "execution_count": 1,
   "id": "7c102e25",
   "metadata": {},
   "outputs": [],
   "source": [
    "import pandas as pd"
   ]
  },
  {
   "cell_type": "markdown",
   "id": "68caded2",
   "metadata": {},
   "source": [
    "## Load transaction data from CSV \n"
   ]
  },
  {
   "cell_type": "code",
   "execution_count": 2,
   "id": "1c7ca530",
   "metadata": {},
   "outputs": [
    {
     "name": "stdout",
     "output_type": "stream",
     "text": [
      "CPU times: user 19.7 s, sys: 1.89 s, total: 21.6 s\n",
      "Wall time: 21.7 s\n"
     ]
    }
   ],
   "source": [
    "%%time\n",
    "headers = ['cc_num','category','amt','is_fraud','merchant','transaction_date','transaction_weekday','transaction_month',\n",
    "           'transaction_hour','gender','zip','city_pop','job','age','setting','age_group','distance_from_home']\n",
    "dtypes = {'cc_num': 'category', 'category': 'category', 'amt': 'float64', 'is_fraud': 'int',\n",
    "         'merchant':'category', 'transaction_weekday':'category','transaction_month':'category',\n",
    "         'transaction_hour':'category','gender':'category','zip':'category','city_pop':'int',\n",
    "         'job':'category','age': 'int', 'setting':'category','age_group':'category','distance_from_home':'float'}\n",
    "parse_dates = ['transaction_date']\n",
    "\n",
    "data = pd.read_csv('transactions.csv',header=0, names=headers, dtype=dtypes, parse_dates=parse_dates,skiprows=[1])\n"
   ]
  },
  {
   "cell_type": "code",
   "execution_count": 3,
   "id": "a150fb0c",
   "metadata": {},
   "outputs": [
    {
     "data": {
      "text/plain": [
       "cc_num                       category\n",
       "category                     category\n",
       "amt                           float64\n",
       "is_fraud                        int64\n",
       "merchant                     category\n",
       "transaction_date       datetime64[ns]\n",
       "transaction_weekday          category\n",
       "transaction_month            category\n",
       "transaction_hour             category\n",
       "gender                       category\n",
       "zip                          category\n",
       "city_pop                        int64\n",
       "job                          category\n",
       "age                             int64\n",
       "setting                      category\n",
       "age_group                    category\n",
       "distance_from_home            float64\n",
       "dtype: object"
      ]
     },
     "execution_count": 3,
     "metadata": {},
     "output_type": "execute_result"
    }
   ],
   "source": [
    " data.dtypes"
   ]
  },
  {
   "cell_type": "code",
   "execution_count": 4,
   "id": "829c1d5e",
   "metadata": {},
   "outputs": [
    {
     "data": {
      "text/html": [
       "<div>\n",
       "<style scoped>\n",
       "    .dataframe tbody tr th:only-of-type {\n",
       "        vertical-align: middle;\n",
       "    }\n",
       "\n",
       "    .dataframe tbody tr th {\n",
       "        vertical-align: top;\n",
       "    }\n",
       "\n",
       "    .dataframe thead th {\n",
       "        text-align: right;\n",
       "    }\n",
       "</style>\n",
       "<table border=\"1\" class=\"dataframe\">\n",
       "  <thead>\n",
       "    <tr style=\"text-align: right;\">\n",
       "      <th></th>\n",
       "      <th>cc_num</th>\n",
       "      <th>category</th>\n",
       "      <th>amt</th>\n",
       "      <th>is_fraud</th>\n",
       "      <th>merchant</th>\n",
       "      <th>transaction_date</th>\n",
       "      <th>transaction_weekday</th>\n",
       "      <th>transaction_month</th>\n",
       "      <th>transaction_hour</th>\n",
       "      <th>gender</th>\n",
       "      <th>zip</th>\n",
       "      <th>city_pop</th>\n",
       "      <th>job</th>\n",
       "      <th>age</th>\n",
       "      <th>setting</th>\n",
       "      <th>age_group</th>\n",
       "      <th>distance_from_home</th>\n",
       "    </tr>\n",
       "  </thead>\n",
       "  <tbody>\n",
       "    <tr>\n",
       "      <th>0</th>\n",
       "      <td>3517182278248964</td>\n",
       "      <td>gas_transport</td>\n",
       "      <td>771.21</td>\n",
       "      <td>1</td>\n",
       "      <td>fraud_Berge LLC</td>\n",
       "      <td>2021-12-27 05:38:44</td>\n",
       "      <td>0</td>\n",
       "      <td>12</td>\n",
       "      <td>05</td>\n",
       "      <td>F</td>\n",
       "      <td>37411</td>\n",
       "      <td>198659</td>\n",
       "      <td>Community arts worker</td>\n",
       "      <td>35</td>\n",
       "      <td>urban</td>\n",
       "      <td>26-35</td>\n",
       "      <td>134.025936</td>\n",
       "    </tr>\n",
       "    <tr>\n",
       "      <th>1</th>\n",
       "      <td>3517182278248964</td>\n",
       "      <td>home</td>\n",
       "      <td>257.39</td>\n",
       "      <td>1</td>\n",
       "      <td>fraud_Gerhold LLC</td>\n",
       "      <td>2021-12-28 23:19:40</td>\n",
       "      <td>1</td>\n",
       "      <td>12</td>\n",
       "      <td>23</td>\n",
       "      <td>F</td>\n",
       "      <td>37411</td>\n",
       "      <td>198659</td>\n",
       "      <td>Community arts worker</td>\n",
       "      <td>35</td>\n",
       "      <td>urban</td>\n",
       "      <td>26-35</td>\n",
       "      <td>47.677531</td>\n",
       "    </tr>\n",
       "    <tr>\n",
       "      <th>2</th>\n",
       "      <td>3517182278248964</td>\n",
       "      <td>misc_pos</td>\n",
       "      <td>91.43</td>\n",
       "      <td>0</td>\n",
       "      <td>fraud_Boehm, Predovic and Reinger</td>\n",
       "      <td>2021-06-03 07:06:42</td>\n",
       "      <td>3</td>\n",
       "      <td>6</td>\n",
       "      <td>07</td>\n",
       "      <td>F</td>\n",
       "      <td>37411</td>\n",
       "      <td>198659</td>\n",
       "      <td>Community arts worker</td>\n",
       "      <td>35</td>\n",
       "      <td>urban</td>\n",
       "      <td>26-35</td>\n",
       "      <td>124.769004</td>\n",
       "    </tr>\n",
       "    <tr>\n",
       "      <th>3</th>\n",
       "      <td>3517182278248964</td>\n",
       "      <td>grocery_pos</td>\n",
       "      <td>101.76</td>\n",
       "      <td>0</td>\n",
       "      <td>fraud_Wolf Inc</td>\n",
       "      <td>2021-03-20 01:49:49</td>\n",
       "      <td>5</td>\n",
       "      <td>3</td>\n",
       "      <td>01</td>\n",
       "      <td>F</td>\n",
       "      <td>37411</td>\n",
       "      <td>198659</td>\n",
       "      <td>Community arts worker</td>\n",
       "      <td>35</td>\n",
       "      <td>urban</td>\n",
       "      <td>26-35</td>\n",
       "      <td>75.359127</td>\n",
       "    </tr>\n",
       "    <tr>\n",
       "      <th>4</th>\n",
       "      <td>3517182278248964</td>\n",
       "      <td>grocery_pos</td>\n",
       "      <td>67.26</td>\n",
       "      <td>0</td>\n",
       "      <td>fraud_Heidenreich PLC</td>\n",
       "      <td>2021-02-12 03:07:30</td>\n",
       "      <td>4</td>\n",
       "      <td>2</td>\n",
       "      <td>03</td>\n",
       "      <td>F</td>\n",
       "      <td>37411</td>\n",
       "      <td>198659</td>\n",
       "      <td>Community arts worker</td>\n",
       "      <td>35</td>\n",
       "      <td>urban</td>\n",
       "      <td>26-35</td>\n",
       "      <td>57.378602</td>\n",
       "    </tr>\n",
       "  </tbody>\n",
       "</table>\n",
       "</div>"
      ],
      "text/plain": [
       "             cc_num       category     amt  is_fraud  \\\n",
       "0  3517182278248964  gas_transport  771.21         1   \n",
       "1  3517182278248964           home  257.39         1   \n",
       "2  3517182278248964       misc_pos   91.43         0   \n",
       "3  3517182278248964    grocery_pos  101.76         0   \n",
       "4  3517182278248964    grocery_pos   67.26         0   \n",
       "\n",
       "                            merchant    transaction_date transaction_weekday  \\\n",
       "0                    fraud_Berge LLC 2021-12-27 05:38:44                   0   \n",
       "1                  fraud_Gerhold LLC 2021-12-28 23:19:40                   1   \n",
       "2  fraud_Boehm, Predovic and Reinger 2021-06-03 07:06:42                   3   \n",
       "3                     fraud_Wolf Inc 2021-03-20 01:49:49                   5   \n",
       "4              fraud_Heidenreich PLC 2021-02-12 03:07:30                   4   \n",
       "\n",
       "  transaction_month transaction_hour gender    zip  city_pop  \\\n",
       "0                12               05      F  37411    198659   \n",
       "1                12               23      F  37411    198659   \n",
       "2                 6               07      F  37411    198659   \n",
       "3                 3               01      F  37411    198659   \n",
       "4                 2               03      F  37411    198659   \n",
       "\n",
       "                     job  age setting age_group  distance_from_home  \n",
       "0  Community arts worker   35   urban     26-35          134.025936  \n",
       "1  Community arts worker   35   urban     26-35           47.677531  \n",
       "2  Community arts worker   35   urban     26-35          124.769004  \n",
       "3  Community arts worker   35   urban     26-35           75.359127  \n",
       "4  Community arts worker   35   urban     26-35           57.378602  "
      ]
     },
     "execution_count": 4,
     "metadata": {},
     "output_type": "execute_result"
    }
   ],
   "source": [
    "data.head()"
   ]
  },
  {
   "cell_type": "markdown",
   "id": "9a41cbc4",
   "metadata": {},
   "source": [
    "## Confirm 17M+ transactions"
   ]
  },
  {
   "cell_type": "code",
   "execution_count": 5,
   "id": "62374dfa",
   "metadata": {},
   "outputs": [
    {
     "data": {
      "text/plain": [
       "(17297323, 17)"
      ]
     },
     "execution_count": 5,
     "metadata": {},
     "output_type": "execute_result"
    }
   ],
   "source": [
    "data.shape"
   ]
  },
  {
   "cell_type": "markdown",
   "id": "da303b0e",
   "metadata": {},
   "source": [
    "# 2. Apply LightGBM Feature Pre-Processing \n",
    "\n",
    "LightGBM offers good accuracy with integer-encoded categorical features. LightGBM applies Fisher (1958) to find the optimal split over categories. This often performs better than one-hot encoding.\n",
    "\n",
    "https://lightgbm.readthedocs.io/en/latest/Advanced-Topics.html#categorical-feature-support\n",
    "\n",
    "\n",
    "## 2.1 Mappings\n",
    "So let's create a Map (Dictionary) for every categorical feature. \n",
    "For each feature, a python dictionary holds the transformation from feature value to integer\n",
    "\n",
    "For example, for the categorical feature \"gender\", we will have a gender_dict with values\n",
    "{'F': 0, 'M': 1} "
   ]
  },
  {
   "cell_type": "code",
   "execution_count": 6,
   "id": "42bb02f7",
   "metadata": {},
   "outputs": [
    {
     "name": "stdout",
     "output_type": "stream",
     "text": [
      "CPU times: user 12.1 s, sys: 436 ms, total: 12.5 s\n",
      "Wall time: 12.5 s\n"
     ]
    }
   ],
   "source": [
    "%%time \n",
    "cc_num_dict = dict (zip(data['cc_num'], data['cc_num'].cat.codes)) \n",
    "category_dict = dict (zip(data['category'], data['category'].cat.codes)) \n",
    "merchant_dict = dict (zip(data['merchant'], data['merchant'].cat.codes))\n",
    "transaction_weekday_dict = dict (zip(data['transaction_weekday'], data['transaction_weekday'].cat.codes)) \n",
    "transaction_month_dict = dict (zip(data['transaction_month'], data['transaction_month'].cat.codes))\n",
    "transaction_hour_dict = dict (zip(data['transaction_hour'], data['transaction_hour'].cat.codes))\n",
    "gender_dict = dict (zip(data['gender'], data['gender'].cat.codes))\n",
    "age_group_dict = dict (zip(data['age_group'], data['age_group'].cat.codes)) \n",
    "job_dict = dict (zip(data['job'], data['job'].cat.codes)) \n",
    "setting_dict = dict (zip(data['setting'], data['setting'].cat.codes)) \n",
    "zip_dict = dict (zip(data['zip'], data['zip'].cat.codes)) \n"
   ]
  },
  {
   "cell_type": "markdown",
   "id": "28ac3c5c",
   "metadata": {},
   "source": [
    "### Let's check the generated gender_dict"
   ]
  },
  {
   "cell_type": "code",
   "execution_count": 7,
   "id": "068ea79e",
   "metadata": {},
   "outputs": [
    {
     "data": {
      "text/plain": [
       "{'F': 0, 'M': 1}"
      ]
     },
     "execution_count": 7,
     "metadata": {},
     "output_type": "execute_result"
    }
   ],
   "source": [
    "gender_dict"
   ]
  },
  {
   "cell_type": "markdown",
   "id": "61ef1e3b",
   "metadata": {},
   "source": [
    "## 2.2 Save Mappings to JSON files \n",
    "We will use these later...\n"
   ]
  },
  {
   "cell_type": "code",
   "execution_count": 8,
   "id": "cdea9f18",
   "metadata": {},
   "outputs": [],
   "source": [
    "import json\n",
    "\n",
    "def save_dict (dictionary, filename):\n",
    "    with open(filename, 'w') as convert_file:\n",
    "        convert_file.write(json.dumps(dictionary))\n",
    "    "
   ]
  },
  {
   "cell_type": "code",
   "execution_count": 9,
   "id": "e1da5973",
   "metadata": {},
   "outputs": [],
   "source": [
    "save_dict(cc_num_dict,'cc_num_dict.json')\n",
    "save_dict(category_dict,'category_dict.json')\n",
    "save_dict(merchant_dict,'merchant_dict.json')\n",
    "save_dict(transaction_weekday_dict,'transaction_weekday_dict.json')\n",
    "save_dict(transaction_month_dict,'transaction_month_dict.json')\n",
    "save_dict(transaction_hour_dict,'transaction_hour_dict.json')\n",
    "save_dict(gender_dict,'gender_dict.json')\n",
    "save_dict(age_group_dict,'age_group_dict.json')\n",
    "save_dict(job_dict,'job_dict.json')\n",
    "save_dict(setting_dict,'setting_dict.json')\n",
    "save_dict(zip_dict,'zip_dict.json')"
   ]
  },
  {
   "cell_type": "markdown",
   "id": "1c4da412",
   "metadata": {},
   "source": [
    "### Notes for Inference\n",
    "\n",
    "\n",
    "#### Converting Categorical values to integer values used during training\n",
    "\n",
    "At inference time, your LightGBM model requires the integer associated with a categorical feature value.\n",
    "Therefore, the above dictionaries will be used to pre-process transaction data as it streams through Hazelcast\n",
    "\n",
    "We will load these dictionaries into a Hazelcast later...\n",
    "\n",
    "#### Dealing with unknown categorical values at inference time\n",
    "In production, there needs to be an elegant way to deal with unknown values. \n",
    "For example imagine a new \"job\" is added after the model is deployed to production.\n",
    "The new value for job has not seen during training and a result there is no mapping to an integer value. \n",
    "\n",
    "The data scientists will need to ensure the model is robust to unseen/unknown categorical values...\n",
    "\n",
    "\n",
    "For now, let's focus on training and deploy the model assuming the no unseen/unknown categorical values.\n",
    "\n",
    "\n",
    "\n"
   ]
  },
  {
   "cell_type": "code",
   "execution_count": 8,
   "id": "26631894",
   "metadata": {},
   "outputs": [],
   "source": [
    "## Save minimal test dataset - We will stream these data through a Hazelcast Fraud detection pipeline later\n",
    "test_data = data[data['transaction_date'] > '2022-06-30 23:59:59']\n",
    "test_data = test_data[['cc_num','amt','merchant','transaction_date','is_fraud']]\n"
   ]
  },
  {
   "cell_type": "code",
   "execution_count": 9,
   "id": "b18113b7-fa64-4346-83b2-524df1a97840",
   "metadata": {},
   "outputs": [],
   "source": [
    "test_data.to_csv('transaction_data_stream.csv', index=False)"
   ]
  },
  {
   "cell_type": "code",
   "execution_count": 10,
   "id": "bc69e3e1",
   "metadata": {},
   "outputs": [
    {
     "data": {
      "text/html": [
       "<div>\n",
       "<style scoped>\n",
       "    .dataframe tbody tr th:only-of-type {\n",
       "        vertical-align: middle;\n",
       "    }\n",
       "\n",
       "    .dataframe tbody tr th {\n",
       "        vertical-align: top;\n",
       "    }\n",
       "\n",
       "    .dataframe thead th {\n",
       "        text-align: right;\n",
       "    }\n",
       "</style>\n",
       "<table border=\"1\" class=\"dataframe\">\n",
       "  <thead>\n",
       "    <tr style=\"text-align: right;\">\n",
       "      <th></th>\n",
       "      <th>cc_num</th>\n",
       "      <th>amt</th>\n",
       "      <th>merchant</th>\n",
       "      <th>transaction_date</th>\n",
       "      <th>is_fraud</th>\n",
       "    </tr>\n",
       "  </thead>\n",
       "  <tbody>\n",
       "    <tr>\n",
       "      <th>864</th>\n",
       "      <td>3517182278248964</td>\n",
       "      <td>327.63</td>\n",
       "      <td>fraud_Erdman-Schaden</td>\n",
       "      <td>2022-09-16 18:35:45</td>\n",
       "      <td>0</td>\n",
       "    </tr>\n",
       "    <tr>\n",
       "      <th>869</th>\n",
       "      <td>3517182278248964</td>\n",
       "      <td>3.55</td>\n",
       "      <td>fraud_Roberts, Daniel and Macejkovic</td>\n",
       "      <td>2022-07-28 23:31:46</td>\n",
       "      <td>0</td>\n",
       "    </tr>\n",
       "    <tr>\n",
       "      <th>870</th>\n",
       "      <td>3517182278248964</td>\n",
       "      <td>42.47</td>\n",
       "      <td>fraud_Medhurst, Cartwright and Ebert</td>\n",
       "      <td>2022-09-20 22:00:58</td>\n",
       "      <td>0</td>\n",
       "    </tr>\n",
       "    <tr>\n",
       "      <th>872</th>\n",
       "      <td>3517182278248964</td>\n",
       "      <td>10.21</td>\n",
       "      <td>fraud_Baumbach Ltd</td>\n",
       "      <td>2022-09-28 17:22:23</td>\n",
       "      <td>0</td>\n",
       "    </tr>\n",
       "    <tr>\n",
       "      <th>876</th>\n",
       "      <td>3517182278248964</td>\n",
       "      <td>62.99</td>\n",
       "      <td>fraud_Wilkinson LLC</td>\n",
       "      <td>2022-10-01 17:49:11</td>\n",
       "      <td>0</td>\n",
       "    </tr>\n",
       "  </tbody>\n",
       "</table>\n",
       "</div>"
      ],
      "text/plain": [
       "               cc_num     amt                              merchant  \\\n",
       "864  3517182278248964  327.63                  fraud_Erdman-Schaden   \n",
       "869  3517182278248964    3.55  fraud_Roberts, Daniel and Macejkovic   \n",
       "870  3517182278248964   42.47  fraud_Medhurst, Cartwright and Ebert   \n",
       "872  3517182278248964   10.21                    fraud_Baumbach Ltd   \n",
       "876  3517182278248964   62.99                   fraud_Wilkinson LLC   \n",
       "\n",
       "       transaction_date  is_fraud  \n",
       "864 2022-09-16 18:35:45         0  \n",
       "869 2022-07-28 23:31:46         0  \n",
       "870 2022-09-20 22:00:58         0  \n",
       "872 2022-09-28 17:22:23         0  \n",
       "876 2022-10-01 17:49:11         0  "
      ]
     },
     "execution_count": 10,
     "metadata": {},
     "output_type": "execute_result"
    }
   ],
   "source": [
    "test_data.head()"
   ]
  },
  {
   "cell_type": "code",
   "execution_count": 11,
   "id": "d71ff014",
   "metadata": {},
   "outputs": [
    {
     "data": {
      "text/plain": [
       "(2981444, 5)"
      ]
     },
     "execution_count": 11,
     "metadata": {},
     "output_type": "execute_result"
    }
   ],
   "source": [
    "test_data.shape"
   ]
  },
  {
   "cell_type": "markdown",
   "id": "20c9052a",
   "metadata": {},
   "source": [
    "## 2.1 Converting Categorical values to integer values\n",
    "At inference time, The LightGBM model will require the integer associated with any categorical feature value. Therefore, these dictionaries will now be used to pre-process transaction data.\n",
    "\n",
    "In production, the same exact conversions will be needed to process transactions as they stream through Hazelcast\n",
    "\n"
   ]
  },
  {
   "cell_type": "code",
   "execution_count": 12,
   "id": "4ebb0d54",
   "metadata": {},
   "outputs": [
    {
     "name": "stdout",
     "output_type": "stream",
     "text": [
      "CPU times: user 9.2 s, sys: 4.82 s, total: 14 s\n",
      "Wall time: 14.4 s\n"
     ]
    }
   ],
   "source": [
    "%%time \n",
    "data['category'] = data['category'].replace(category_dict)\n",
    "data['category'] = data['category'].astype(int)\n",
    "data['merchant'] = data['merchant'].replace(merchant_dict)\n",
    "data['merchant'] = data['merchant'].astype(int)\n",
    "\n"
   ]
  },
  {
   "cell_type": "code",
   "execution_count": 13,
   "id": "b6adc0b3",
   "metadata": {},
   "outputs": [
    {
     "name": "stdout",
     "output_type": "stream",
     "text": [
      "CPU times: user 1min 30s, sys: 38.6 s, total: 2min 8s\n",
      "Wall time: 2min 15s\n"
     ]
    }
   ],
   "source": [
    "%%time\n",
    "data['transaction_weekday'] = data['transaction_weekday'].replace(transaction_weekday_dict)\n",
    "data['transaction_weekday'] = data['transaction_weekday'].astype(int)\n",
    "data['transaction_month'] = data['transaction_month'].replace(transaction_month_dict)\n",
    "data['transaction_month'] = data['transaction_month'].astype(int)\n",
    "data['transaction_hour'] = data['transaction_hour'].replace(transaction_hour_dict)\n",
    "data['transaction_hour'] = data['transaction_hour'].astype(int)\n",
    "data['gender'] = data['gender'].replace(gender_dict)\n",
    "data['gender'] = data['gender'].astype(int)\n",
    "data['zip'] = data['zip'].replace(zip_dict)\n",
    "data['zip'] = data['zip'].astype(int) \n"
   ]
  },
  {
   "cell_type": "code",
   "execution_count": 14,
   "id": "9b6c1767",
   "metadata": {},
   "outputs": [
    {
     "name": "stdout",
     "output_type": "stream",
     "text": [
      "CPU times: user 7.62 s, sys: 2.67 s, total: 10.3 s\n",
      "Wall time: 10.4 s\n"
     ]
    }
   ],
   "source": [
    "%%time\n",
    "data['job'] = data['job'].replace(job_dict)\n",
    "data['job'] = data['job'].astype(int)\n",
    "data['setting'] = data['setting'].replace(setting_dict)\n",
    "data['setting'] = data['setting'].astype(int)\n",
    "data['age_group'] = data['age_group'].replace(age_group_dict)\n",
    "data['age_group'] = data['age_group'].astype(int)\n"
   ]
  },
  {
   "cell_type": "code",
   "execution_count": 15,
   "id": "e824cc11",
   "metadata": {},
   "outputs": [
    {
     "name": "stdout",
     "output_type": "stream",
     "text": [
      "CPU times: user 2min 15s, sys: 53 s, total: 3min 8s\n",
      "Wall time: 3min 18s\n"
     ]
    }
   ],
   "source": [
    "%%time\n",
    "data['cc_num'] = data['cc_num'].replace(cc_num_dict)\n",
    "data['cc_num'] = data['cc_num'].astype(int)\n"
   ]
  },
  {
   "cell_type": "code",
   "execution_count": 17,
   "id": "239abffb",
   "metadata": {},
   "outputs": [
    {
     "data": {
      "text/plain": [
       "cc_num                          int64\n",
       "category                        int64\n",
       "amt                           float64\n",
       "is_fraud                        int64\n",
       "merchant                        int64\n",
       "transaction_date       datetime64[ns]\n",
       "transaction_weekday             int64\n",
       "transaction_month               int64\n",
       "transaction_hour                int64\n",
       "gender                          int64\n",
       "zip                             int64\n",
       "city_pop                        int64\n",
       "job                             int64\n",
       "age                             int64\n",
       "setting                         int64\n",
       "age_group                       int64\n",
       "distance_from_home            float64\n",
       "dtype: object"
      ]
     },
     "execution_count": 17,
     "metadata": {},
     "output_type": "execute_result"
    }
   ],
   "source": [
    "data.dtypes"
   ]
  },
  {
   "cell_type": "code",
   "execution_count": 18,
   "id": "12d12f75",
   "metadata": {},
   "outputs": [
    {
     "name": "stdout",
     "output_type": "stream",
     "text": [
      "CPU times: user 6.28 s, sys: 854 ms, total: 7.13 s\n",
      "Wall time: 7.13 s\n"
     ]
    }
   ],
   "source": [
    "%%time\n",
    "data = data.sort_values(by='transaction_date')\n"
   ]
  },
  {
   "cell_type": "code",
   "execution_count": 19,
   "id": "b55c7c5d",
   "metadata": {},
   "outputs": [
    {
     "data": {
      "text/plain": [
       "Timestamp('2020-11-01 00:00:00')"
      ]
     },
     "execution_count": 19,
     "metadata": {},
     "output_type": "execute_result"
    }
   ],
   "source": [
    "data['transaction_date'].min()"
   ]
  },
  {
   "cell_type": "code",
   "execution_count": 20,
   "id": "56f0b5a4",
   "metadata": {},
   "outputs": [
    {
     "data": {
      "text/plain": [
       "Timestamp('2022-11-01 23:59:56')"
      ]
     },
     "execution_count": 20,
     "metadata": {},
     "output_type": "execute_result"
    }
   ],
   "source": [
    "data['transaction_date'].max()"
   ]
  },
  {
   "cell_type": "markdown",
   "id": "23d26950",
   "metadata": {},
   "source": [
    "# 3. Train LightGBM Model\n",
    "\n",
    "Let's train our model on \"historical\" transactions (transactions before 2022-06-30)\n",
    "\n",
    "We will test our model on more \"recent\" data (transactions after 2022-06-30)"
   ]
  },
  {
   "cell_type": "markdown",
   "id": "362475cd",
   "metadata": {},
   "source": [
    "## Split data into training and test sets\n",
    "\n",
    "Remember to use the last 2 months of transaction data as test set!"
   ]
  },
  {
   "cell_type": "code",
   "execution_count": 21,
   "id": "3b361f6a",
   "metadata": {},
   "outputs": [],
   "source": [
    "train_data  = data[data['transaction_date'] <= '2022-06-30 23:59:59']\n",
    "test_data = data[data['transaction_date'] > '2022-06-30 23:59:59']\n",
    "\n",
    "\n",
    "#training set\n",
    "X_train = train_data.drop(['is_fraud'], axis=1)\n",
    "y_train = train_data['is_fraud']\n",
    "\n",
    "#test set\n",
    "X_test = test_data.drop(['is_fraud'], axis=1)\n",
    "y_test = test_data['is_fraud']\n",
    "\n",
    "# Drop transaction date (it was only needed to split train/test sets)\n",
    "X_train = X_train.drop(['transaction_date'], axis=1)\n",
    "X_test  = X_test.drop(['transaction_date'], axis=1)\n"
   ]
  },
  {
   "cell_type": "code",
   "execution_count": 22,
   "id": "ffff4a06",
   "metadata": {},
   "outputs": [
    {
     "name": "stdout",
     "output_type": "stream",
     "text": [
      "training model on 14315879 historical transactions\n",
      "testing  model on 2981444 recent transactions\n"
     ]
    }
   ],
   "source": [
    "print (f'training model on {X_train.shape[0]} historical transactions')\n",
    "print (f'testing  model on {X_test.shape[0]} recent transactions')"
   ]
  },
  {
   "cell_type": "markdown",
   "id": "636159c6",
   "metadata": {},
   "source": [
    "## 3.1 LightGBM Hyper Parameters\n"
   ]
  },
  {
   "cell_type": "code",
   "execution_count": 23,
   "id": "69575748",
   "metadata": {},
   "outputs": [],
   "source": [
    "import lightgbm as lgbm\n",
    "from sklearn.metrics import accuracy_score\n",
    "from sklearn.metrics import balanced_accuracy_score\n"
   ]
  },
  {
   "cell_type": "code",
   "execution_count": 24,
   "id": "daf3830b",
   "metadata": {},
   "outputs": [],
   "source": [
    "# LightGBM Hyper Parameters\n",
    "\n",
    "SEARCH_PARAMS = {'learning_rate': 0.2,\n",
    "                 'max_depth': 15,\n",
    "                 'num_leaves': 20,\n",
    "                 'feature_fraction': 0.8,\n",
    "                 'subsample': 0.2}\n",
    "\n",
    "FIXED_PARAMS={'objective': 'binary',\n",
    "              'metric': 'auc',\n",
    "              'scale_pos_weight':130,\n",
    "              'boosting':'gbdt',\n",
    "              'early_stopping_rounds':30}\n",
    "\n",
    "TRAINING_RUN_PARAMS = {**FIXED_PARAMS, **SEARCH_PARAMS}"
   ]
  },
  {
   "cell_type": "markdown",
   "id": "ed27f9e4",
   "metadata": {},
   "source": [
    "## 3.2 Model Training time\n",
    "\n",
    "Train LightGBM model with an initial set of hyperparameters\n",
    "\n",
    "The full hyper-parameter tuning exercise (with GridSearchCV or tool of choice) is left as an exercise!"
   ]
  },
  {
   "cell_type": "code",
   "execution_count": 25,
   "id": "d99cdbaf",
   "metadata": {},
   "outputs": [
    {
     "name": "stdout",
     "output_type": "stream",
     "text": [
      "[LightGBM] [Warning] boosting is set=gbdt, boosting_type=gbdt will be ignored. Current value: boosting=gbdt\n",
      "[LightGBM] [Warning] feature_fraction is set=0.8, colsample_bytree=1.0 will be ignored. Current value: feature_fraction=0.8\n",
      "[LightGBM] [Warning] early_stopping_round is set=30, early_stopping_rounds=30 will be ignored. Current value: early_stopping_round=30\n",
      "[1]\tvalid_0's auc: 0.623191\n",
      "[2]\tvalid_0's auc: 0.499737\n",
      "[3]\tvalid_0's auc: 0.781455\n",
      "[4]\tvalid_0's auc: 0.832385\n",
      "[5]\tvalid_0's auc: 0.814505\n",
      "[6]\tvalid_0's auc: 0.814657\n",
      "[7]\tvalid_0's auc: 0.81595\n",
      "[8]\tvalid_0's auc: 0.838918\n",
      "[9]\tvalid_0's auc: 0.760899\n",
      "[10]\tvalid_0's auc: 0.761601\n",
      "[11]\tvalid_0's auc: 0.758864\n",
      "[12]\tvalid_0's auc: 0.758399\n",
      "[13]\tvalid_0's auc: 0.789298\n",
      "[14]\tvalid_0's auc: 0.789426\n",
      "[15]\tvalid_0's auc: 0.789082\n",
      "[16]\tvalid_0's auc: 0.799909\n",
      "[17]\tvalid_0's auc: 0.821618\n",
      "[18]\tvalid_0's auc: 0.826271\n",
      "[19]\tvalid_0's auc: 0.827163\n",
      "[20]\tvalid_0's auc: 0.826817\n",
      "[21]\tvalid_0's auc: 0.848776\n",
      "[22]\tvalid_0's auc: 0.852605\n",
      "[23]\tvalid_0's auc: 0.866402\n",
      "[24]\tvalid_0's auc: 0.888746\n",
      "[25]\tvalid_0's auc: 0.888698\n",
      "[26]\tvalid_0's auc: 0.889564\n",
      "[27]\tvalid_0's auc: 0.897757\n",
      "[28]\tvalid_0's auc: 0.869168\n",
      "[29]\tvalid_0's auc: 0.873105\n",
      "[30]\tvalid_0's auc: 0.893196\n",
      "[31]\tvalid_0's auc: 0.892546\n",
      "[32]\tvalid_0's auc: 0.896737\n",
      "[33]\tvalid_0's auc: 0.896012\n",
      "[34]\tvalid_0's auc: 0.895816\n",
      "[35]\tvalid_0's auc: 0.899348\n",
      "[36]\tvalid_0's auc: 0.899831\n",
      "[37]\tvalid_0's auc: 0.900535\n",
      "[38]\tvalid_0's auc: 0.900642\n",
      "[39]\tvalid_0's auc: 0.905361\n",
      "[40]\tvalid_0's auc: 0.906108\n",
      "[41]\tvalid_0's auc: 0.906108\n",
      "[42]\tvalid_0's auc: 0.90622\n",
      "[43]\tvalid_0's auc: 0.908474\n",
      "[44]\tvalid_0's auc: 0.90869\n",
      "[45]\tvalid_0's auc: 0.909445\n",
      "[46]\tvalid_0's auc: 0.907332\n",
      "[47]\tvalid_0's auc: 0.90715\n",
      "[48]\tvalid_0's auc: 0.907805\n",
      "[49]\tvalid_0's auc: 0.912159\n",
      "[50]\tvalid_0's auc: 0.912159\n",
      "[51]\tvalid_0's auc: 0.913135\n",
      "[52]\tvalid_0's auc: 0.912434\n",
      "[53]\tvalid_0's auc: 0.912611\n",
      "[54]\tvalid_0's auc: 0.912611\n",
      "[55]\tvalid_0's auc: 0.912794\n",
      "[56]\tvalid_0's auc: 0.912545\n",
      "[57]\tvalid_0's auc: 0.912935\n",
      "[58]\tvalid_0's auc: 0.913443\n",
      "[59]\tvalid_0's auc: 0.913693\n",
      "[60]\tvalid_0's auc: 0.912841\n",
      "[61]\tvalid_0's auc: 0.914574\n",
      "[62]\tvalid_0's auc: 0.914479\n",
      "[63]\tvalid_0's auc: 0.915032\n",
      "[64]\tvalid_0's auc: 0.915225\n",
      "[65]\tvalid_0's auc: 0.915335\n",
      "[66]\tvalid_0's auc: 0.915266\n",
      "[67]\tvalid_0's auc: 0.915338\n",
      "[68]\tvalid_0's auc: 0.915219\n",
      "[69]\tvalid_0's auc: 0.91559\n",
      "[70]\tvalid_0's auc: 0.914286\n",
      "[71]\tvalid_0's auc: 0.91422\n",
      "[72]\tvalid_0's auc: 0.913741\n",
      "[73]\tvalid_0's auc: 0.913417\n",
      "[74]\tvalid_0's auc: 0.913006\n",
      "[75]\tvalid_0's auc: 0.914302\n",
      "[76]\tvalid_0's auc: 0.914692\n",
      "[77]\tvalid_0's auc: 0.91485\n",
      "[78]\tvalid_0's auc: 0.915373\n",
      "[79]\tvalid_0's auc: 0.915829\n",
      "[80]\tvalid_0's auc: 0.91608\n",
      "[81]\tvalid_0's auc: 0.917061\n",
      "[82]\tvalid_0's auc: 0.916549\n",
      "[83]\tvalid_0's auc: 0.916549\n",
      "[84]\tvalid_0's auc: 0.916797\n",
      "[85]\tvalid_0's auc: 0.917074\n",
      "[86]\tvalid_0's auc: 0.913114\n",
      "[87]\tvalid_0's auc: 0.913211\n",
      "[88]\tvalid_0's auc: 0.913273\n",
      "[89]\tvalid_0's auc: 0.914446\n",
      "[90]\tvalid_0's auc: 0.914427\n",
      "[91]\tvalid_0's auc: 0.909026\n",
      "[92]\tvalid_0's auc: 0.910584\n",
      "[93]\tvalid_0's auc: 0.914733\n",
      "[94]\tvalid_0's auc: 0.914985\n",
      "[95]\tvalid_0's auc: 0.914902\n",
      "[96]\tvalid_0's auc: 0.914734\n",
      "[97]\tvalid_0's auc: 0.914967\n",
      "[98]\tvalid_0's auc: 0.91523\n",
      "[99]\tvalid_0's auc: 0.915255\n",
      "[100]\tvalid_0's auc: 0.915256\n",
      "CPU times: user 1min 17s, sys: 2.61 s, total: 1min 20s\n",
      "Wall time: 18.6 s\n"
     ]
    },
    {
     "data": {
      "text/html": [
       "<style>#sk-container-id-1 {color: black;background-color: white;}#sk-container-id-1 pre{padding: 0;}#sk-container-id-1 div.sk-toggleable {background-color: white;}#sk-container-id-1 label.sk-toggleable__label {cursor: pointer;display: block;width: 100%;margin-bottom: 0;padding: 0.3em;box-sizing: border-box;text-align: center;}#sk-container-id-1 label.sk-toggleable__label-arrow:before {content: \"▸\";float: left;margin-right: 0.25em;color: #696969;}#sk-container-id-1 label.sk-toggleable__label-arrow:hover:before {color: black;}#sk-container-id-1 div.sk-estimator:hover label.sk-toggleable__label-arrow:before {color: black;}#sk-container-id-1 div.sk-toggleable__content {max-height: 0;max-width: 0;overflow: hidden;text-align: left;background-color: #f0f8ff;}#sk-container-id-1 div.sk-toggleable__content pre {margin: 0.2em;color: black;border-radius: 0.25em;background-color: #f0f8ff;}#sk-container-id-1 input.sk-toggleable__control:checked~div.sk-toggleable__content {max-height: 200px;max-width: 100%;overflow: auto;}#sk-container-id-1 input.sk-toggleable__control:checked~label.sk-toggleable__label-arrow:before {content: \"▾\";}#sk-container-id-1 div.sk-estimator input.sk-toggleable__control:checked~label.sk-toggleable__label {background-color: #d4ebff;}#sk-container-id-1 div.sk-label input.sk-toggleable__control:checked~label.sk-toggleable__label {background-color: #d4ebff;}#sk-container-id-1 input.sk-hidden--visually {border: 0;clip: rect(1px 1px 1px 1px);clip: rect(1px, 1px, 1px, 1px);height: 1px;margin: -1px;overflow: hidden;padding: 0;position: absolute;width: 1px;}#sk-container-id-1 div.sk-estimator {font-family: monospace;background-color: #f0f8ff;border: 1px dotted black;border-radius: 0.25em;box-sizing: border-box;margin-bottom: 0.5em;}#sk-container-id-1 div.sk-estimator:hover {background-color: #d4ebff;}#sk-container-id-1 div.sk-parallel-item::after {content: \"\";width: 100%;border-bottom: 1px solid gray;flex-grow: 1;}#sk-container-id-1 div.sk-label:hover label.sk-toggleable__label {background-color: #d4ebff;}#sk-container-id-1 div.sk-serial::before {content: \"\";position: absolute;border-left: 1px solid gray;box-sizing: border-box;top: 0;bottom: 0;left: 50%;z-index: 0;}#sk-container-id-1 div.sk-serial {display: flex;flex-direction: column;align-items: center;background-color: white;padding-right: 0.2em;padding-left: 0.2em;position: relative;}#sk-container-id-1 div.sk-item {position: relative;z-index: 1;}#sk-container-id-1 div.sk-parallel {display: flex;align-items: stretch;justify-content: center;background-color: white;position: relative;}#sk-container-id-1 div.sk-item::before, #sk-container-id-1 div.sk-parallel-item::before {content: \"\";position: absolute;border-left: 1px solid gray;box-sizing: border-box;top: 0;bottom: 0;left: 50%;z-index: -1;}#sk-container-id-1 div.sk-parallel-item {display: flex;flex-direction: column;z-index: 1;position: relative;background-color: white;}#sk-container-id-1 div.sk-parallel-item:first-child::after {align-self: flex-end;width: 50%;}#sk-container-id-1 div.sk-parallel-item:last-child::after {align-self: flex-start;width: 50%;}#sk-container-id-1 div.sk-parallel-item:only-child::after {width: 0;}#sk-container-id-1 div.sk-dashed-wrapped {border: 1px dashed gray;margin: 0 0.4em 0.5em 0.4em;box-sizing: border-box;padding-bottom: 0.4em;background-color: white;}#sk-container-id-1 div.sk-label label {font-family: monospace;font-weight: bold;display: inline-block;line-height: 1.2em;}#sk-container-id-1 div.sk-label-container {text-align: center;}#sk-container-id-1 div.sk-container {/* jupyter's `normalize.less` sets `[hidden] { display: none; }` but bootstrap.min.css set `[hidden] { display: none !important; }` so we also need the `!important` here to be able to override the default hidden behavior on the sphinx rendered scikit-learn.org. See: https://github.com/scikit-learn/scikit-learn/issues/21755 */display: inline-block !important;position: relative;}#sk-container-id-1 div.sk-text-repr-fallback {display: none;}</style><div id=\"sk-container-id-1\" class=\"sk-top-container\"><div class=\"sk-text-repr-fallback\"><pre>LGBMClassifier(boosting=&#x27;gbdt&#x27;, early_stopping_rounds=30, feature_fraction=0.8,\n",
       "               learning_rate=0.2, max_depth=15, metric=&#x27;auc&#x27;, num_leaves=20,\n",
       "               objective=&#x27;binary&#x27;, scale_pos_weight=130, subsample=0.2)</pre><b>In a Jupyter environment, please rerun this cell to show the HTML representation or trust the notebook. <br />On GitHub, the HTML representation is unable to render, please try loading this page with nbviewer.org.</b></div><div class=\"sk-container\" hidden><div class=\"sk-item\"><div class=\"sk-estimator sk-toggleable\"><input class=\"sk-toggleable__control sk-hidden--visually\" id=\"sk-estimator-id-1\" type=\"checkbox\" checked><label for=\"sk-estimator-id-1\" class=\"sk-toggleable__label sk-toggleable__label-arrow\">LGBMClassifier</label><div class=\"sk-toggleable__content\"><pre>LGBMClassifier(boosting=&#x27;gbdt&#x27;, early_stopping_rounds=30, feature_fraction=0.8,\n",
       "               learning_rate=0.2, max_depth=15, metric=&#x27;auc&#x27;, num_leaves=20,\n",
       "               objective=&#x27;binary&#x27;, scale_pos_weight=130, subsample=0.2)</pre></div></div></div></div></div>"
      ],
      "text/plain": [
       "LGBMClassifier(boosting='gbdt', early_stopping_rounds=30, feature_fraction=0.8,\n",
       "               learning_rate=0.2, max_depth=15, metric='auc', num_leaves=20,\n",
       "               objective='binary', scale_pos_weight=130, subsample=0.2)"
      ]
     },
     "execution_count": 25,
     "metadata": {},
     "output_type": "execute_result"
    }
   ],
   "source": [
    "%%time\n",
    "# Create a LightGBM Binary Classifier (note objective parameter is set to ='binary')\n",
    "clf = lgbm.LGBMClassifier(**TRAINING_RUN_PARAMS)\n",
    "# Train\n",
    "clf.fit(X=X_train, y=y_train, eval_set = (X_test, y_test))"
   ]
  },
  {
   "cell_type": "markdown",
   "id": "92295237",
   "metadata": {},
   "source": [
    "# 4. Check Model Accuracy\n",
    "\n",
    "Generate Predictions for Training and Test sets"
   ]
  },
  {
   "cell_type": "code",
   "execution_count": 26,
   "id": "f164bbfc",
   "metadata": {},
   "outputs": [
    {
     "name": "stdout",
     "output_type": "stream",
     "text": [
      "CPU times: user 20.1 s, sys: 978 ms, total: 21.1 s\n",
      "Wall time: 4.29 s\n"
     ]
    }
   ],
   "source": [
    "%%time\n",
    "y_pred_train = clf.predict(X_train)\n"
   ]
  },
  {
   "cell_type": "code",
   "execution_count": 27,
   "id": "ef7cb959",
   "metadata": {},
   "outputs": [
    {
     "name": "stdout",
     "output_type": "stream",
     "text": [
      "CPU times: user 4.02 s, sys: 97.1 ms, total: 4.12 s\n",
      "Wall time: 710 ms\n"
     ]
    }
   ],
   "source": [
    "%%time\n",
    "y_pred_test  = clf.predict(X_test)"
   ]
  },
  {
   "cell_type": "code",
   "execution_count": 28,
   "id": "470080e3",
   "metadata": {},
   "outputs": [
    {
     "data": {
      "text/plain": [
       "(array([0, 1]), array([14236757,    79122]))"
      ]
     },
     "execution_count": 28,
     "metadata": {},
     "output_type": "execute_result"
    }
   ],
   "source": [
    "import numpy as np\n",
    "np.unique(train_data['is_fraud'].to_numpy(),return_counts=True)"
   ]
  },
  {
   "cell_type": "code",
   "execution_count": 29,
   "id": "ff2e4298",
   "metadata": {},
   "outputs": [
    {
     "data": {
      "text/plain": [
       "(array([0, 1]), array([13255834,  1060045]))"
      ]
     },
     "execution_count": 29,
     "metadata": {},
     "output_type": "execute_result"
    }
   ],
   "source": [
    "np.unique(y_pred_train,return_counts=True)"
   ]
  },
  {
   "cell_type": "markdown",
   "id": "cd214704",
   "metadata": {},
   "source": [
    "### Measure balanced accuracy score\n",
    "\n",
    "\n",
    "In the binary classification, balanced accuracy is equal to the arithmetic mean of sensitivity (true positive rate) and specificity (true negative rate), or the area under the ROC curve with binary predictions rather than scores\n",
    "\n",
    "https://scikit-learn.org/stable/modules/model_evaluation.html#balanced-accuracy-score"
   ]
  },
  {
   "cell_type": "code",
   "execution_count": 30,
   "id": "9f400381",
   "metadata": {},
   "outputs": [
    {
     "name": "stdout",
     "output_type": "stream",
     "text": [
      "LightGBM Model training-set accuracy score: 0.9144\n",
      "LightGBM Model testing-set accuracy score: 0.8911\n"
     ]
    }
   ],
   "source": [
    "# Training set score\n",
    "print('LightGBM Model training-set accuracy score: {0:0.4f}'. format(balanced_accuracy_score(y_train, y_pred_train)))\n",
    "# Testing set score\n",
    "print('LightGBM Model testing-set accuracy score: {0:0.4f}'.format(balanced_accuracy_score(y_test, y_pred_test)))"
   ]
  },
  {
   "cell_type": "markdown",
   "id": "d81e90bc",
   "metadata": {},
   "source": [
    "## 4.1 Generate a Prediction for a Transaction\n",
    "\n",
    "We will use this later ...."
   ]
  },
  {
   "cell_type": "code",
   "execution_count": 31,
   "id": "7c92fd45",
   "metadata": {},
   "outputs": [
    {
     "name": "stdout",
     "output_type": "stream",
     "text": [
      "prediction [1]\n",
      "predict_proba [[0.35324393 0.64675607]]\n"
     ]
    }
   ],
   "source": [
    "print(\"prediction\", clf.predict(X_test[1:2]))\n",
    "print(\"predict_proba\", clf.predict_proba(X_test[1:2]))"
   ]
  },
  {
   "cell_type": "markdown",
   "id": "2d656f9d",
   "metadata": {},
   "source": [
    "## In the real world, additional model experimentation is needed\n",
    "Clearly, the above accuracy metrics indicate that the model may be overfitting to the training set.\n",
    "\n",
    "The data scientists need to continue experimenting to improve this model\n",
    "\n",
    "For now, let's assume the model performance is good enough to be shipped to production\n",
    "\n",
    "\n"
   ]
  },
  {
   "cell_type": "markdown",
   "id": "01610ffe",
   "metadata": {},
   "source": [
    "# 5. Export LightGBM Model to ONNX\n",
    "\n",
    "\n",
    "## 5.1 Register the LightGBM converter"
   ]
  },
  {
   "cell_type": "code",
   "execution_count": 33,
   "id": "2ddd6b07",
   "metadata": {},
   "outputs": [],
   "source": [
    "from skl2onnx import convert_sklearn, update_registered_converter\n",
    "from skl2onnx.common.shape_calculator import calculate_linear_classifier_output_shapes  # noqa\n",
    "from onnxmltools.convert.lightgbm.operator_converters.LightGbm import convert_lightgbm  # noqa\n",
    "from skl2onnx.common.data_types import FloatTensorType\n",
    "import numpy\n",
    "import onnxruntime as rt\n",
    "\n",
    "#register converter\n",
    "update_registered_converter(\n",
    "    lgbm.LGBMClassifier, 'LightGbmLGBMClassifier',\n",
    "    calculate_linear_classifier_output_shapes, convert_lightgbm,\n",
    "    options={'nocl': [True, False], 'zipmap': [True, False, 'columns']})\n"
   ]
  },
  {
   "cell_type": "markdown",
   "id": "9eb1bee6",
   "metadata": {},
   "source": [
    "## 5.2 Convert the model to ONNX \n",
    "Saving it to a file named <b>\"lightgbm_fraud_detection_onnx\"</b>"
   ]
  },
  {
   "cell_type": "code",
   "execution_count": 34,
   "id": "89bab92e",
   "metadata": {},
   "outputs": [],
   "source": [
    "model_onnx = convert_sklearn(\n",
    "    clf, 'lightgbm',\n",
    "    [('input', FloatTensorType([None, 15]))],\n",
    "    target_opset={'': 12, 'ai.onnx.ml': 2})\n",
    "\n",
    "# And save.\n",
    "with open(\"lightgbm_fraud_detection_onnx\", \"wb\") as f:\n",
    "    f.write(model_onnx.SerializeToString())"
   ]
  },
  {
   "cell_type": "markdown",
   "id": "fc5c99fa",
   "metadata": {},
   "source": [
    "## 5.3 Check ONNX model predictions\n",
    "\n",
    "We'd like to test that: \n",
    "* a) The ONNX model is able to generate predictions AND\n",
    "* b) A prediction with the ONNX model matches the prediction made by the origial lightGBM model\n",
    "\n",
    "Let's load the ONNX model and generate a prediction for the same transaction from the test set"
   ]
  },
  {
   "cell_type": "code",
   "execution_count": 35,
   "id": "dffd80ec",
   "metadata": {},
   "outputs": [
    {
     "name": "stdout",
     "output_type": "stream",
     "text": [
      "ONNX MODEL PREDICTION\n",
      "predict [1]\n",
      "predict_proba [{0: 0.3532440662384033, 1: 0.6467559337615967}]\n"
     ]
    }
   ],
   "source": [
    "sess = rt.InferenceSession(\"lightgbm_fraud_detection_onnx\")\n",
    "transaction_row_start = 1\n",
    "    \n",
    "pred_onx = sess.run(None, {\"input\": X_test[transaction_row_start:transaction_row_start+1].astype(numpy.float32).to_numpy()})\n",
    "print(\"ONNX MODEL PREDICTION\")\n",
    "print(\"predict\", pred_onx[0])\n",
    "print(\"predict_proba\",  pred_onx[1][:1])"
   ]
  },
  {
   "cell_type": "markdown",
   "id": "ade20b98",
   "metadata": {},
   "source": [
    "### Check that the predictions match\n",
    "and now let's check the prediction by the original LightGBM model"
   ]
  },
  {
   "cell_type": "code",
   "execution_count": 36,
   "id": "bc0ae295",
   "metadata": {},
   "outputs": [
    {
     "name": "stdout",
     "output_type": "stream",
     "text": [
      "LIGHTGBM MODEL PREDICTION\n",
      "prediction [1]\n",
      "predict_proba [[0.35324393 0.64675607]]\n"
     ]
    }
   ],
   "source": [
    "print(\"LIGHTGBM MODEL PREDICTION\")\n",
    "print(\"prediction\", clf.predict(X_test[transaction_row_start:transaction_row_start+1]))\n",
    "print(\"predict_proba\", clf.predict_proba(X_test[transaction_row_start:transaction_row_start+1]))"
   ]
  },
  {
   "cell_type": "code",
   "execution_count": null,
   "id": "3e134807",
   "metadata": {},
   "outputs": [],
   "source": []
  }
 ],
 "metadata": {
  "kernelspec": {
   "display_name": "Python 3 (ipykernel)",
   "language": "python",
   "name": "python3"
  },
  "language_info": {
   "codemirror_mode": {
    "name": "ipython",
    "version": 3
   },
   "file_extension": ".py",
   "mimetype": "text/x-python",
   "name": "python",
   "nbconvert_exporter": "python",
   "pygments_lexer": "ipython3",
   "version": "3.8.16"
  },
  "vscode": {
   "interpreter": {
    "hash": "b781d36d1136b41b1ac5b90664141315873f08554748a327cde21e501459d63a"
   }
  }
 },
 "nbformat": 4,
 "nbformat_minor": 5
}
